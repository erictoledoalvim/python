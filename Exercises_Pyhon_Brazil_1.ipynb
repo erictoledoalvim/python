{
 "cells": [
  {
   "cell_type": "markdown",
   "metadata": {
    "id": "UcCF6p75NnhH"
   },
   "source": [
    "# Faça um Programa\n",
    "\n",
    "que mostre a mensagem \"Alo mundo\" na tela"
   ]
  },
  {
   "cell_type": "code",
   "execution_count": null,
   "metadata": {
    "colab": {
     "base_uri": "https://localhost:8080/"
    },
    "id": "u_J_M76pNrga",
    "outputId": "a6f14b25-503f-4bd2-85f4-f1aae150be29"
   },
   "outputs": [],
   "source": [
    "print(\"Alo mundo\")"
   ]
  },
  {
   "cell_type": "markdown",
   "metadata": {
    "id": "ZSUNUmnCN1eX"
   },
   "source": [
    "# Faça um Programa\n",
    "\n",
    "que peça um número e então mostre a mensagem O número informado foi [número]."
   ]
  },
  {
   "cell_type": "code",
   "execution_count": null,
   "metadata": {
    "colab": {
     "base_uri": "https://localhost:8080/"
    },
    "id": "aFqtDw0PNsGT",
    "outputId": "46df9d67-c8c8-44e1-e329-d1e610dbcb04"
   },
   "outputs": [],
   "source": [
    "numero = input('Digite um número: ')\n",
    "print(f'O número informado foi: {numero}')"
   ]
  },
  {
   "cell_type": "markdown",
   "metadata": {
    "id": "hUWhM6oXOKr6"
   },
   "source": [
    "# Faça um Programa \n",
    "\n",
    "que peça dois números e imprima a soma."
   ]
  },
  {
   "cell_type": "code",
   "execution_count": null,
   "metadata": {
    "colab": {
     "base_uri": "https://localhost:8080/"
    },
    "id": "b9X4BrucN_ap",
    "outputId": "908620ed-d3ab-4312-f5cd-89f742f86cf5"
   },
   "outputs": [],
   "source": [
    "numero_1 = input('Digite o primeiro número: ')\n",
    "numero_2 = input('Digite o segundo número: ')\n",
    "print(float(numero_1) + float(numero_2))"
   ]
  },
  {
   "cell_type": "markdown",
   "metadata": {
    "id": "2xSq-tLJPf50"
   },
   "source": [
    "# Faça um Programa\n",
    "\n",
    "que peça as 4 notas bimestrais e mostre a média."
   ]
  },
  {
   "cell_type": "code",
   "execution_count": null,
   "metadata": {
    "colab": {
     "base_uri": "https://localhost:8080/"
    },
    "id": "dQk4zm0YPg5f",
    "outputId": "e8536aba-914f-498d-bbb1-98083cec8d26"
   },
   "outputs": [],
   "source": [
    "import numpy as np\n",
    "bimestres = np.array([0,1,2,3])\n",
    "for nota in bimestres:\n",
    "    bimestres[nota] = float(input(f'Insira a nota do {nota+1}º bimestre: '))\n",
    "total = bimestres.sum() / 4\n",
    "print(f'A média é: {total}')"
   ]
  },
  {
   "cell_type": "code",
   "execution_count": null,
   "metadata": {
    "colab": {
     "base_uri": "https://localhost:8080/"
    },
    "id": "ciU8_DdAWa8T",
    "outputId": "58649aad-82c4-45fc-b0d7-e66b0b725f98"
   },
   "outputs": [],
   "source": [
    "nota_1 = float(input('Insira a nota do primeiro bimestre: '))\n",
    "nota_2 = float(input('Insira a nota do segundo bimestre: '))\n",
    "nota_3 = float(input('Insira a nota do terceiro bimestre: '))\n",
    "nota_4 = float(input('Insira a nota do quarto bimestre: '))\n",
    "print('A média é:',(nota_1 + nota_2 + nota_3 + nota_4)/4)\n"
   ]
  },
  {
   "cell_type": "markdown",
   "metadata": {
    "id": "OTbe8qoUlZA5"
   },
   "source": [
    "# Faça um Programa\n",
    "\n",
    "que converta metros para centímetros."
   ]
  },
  {
   "cell_type": "code",
   "execution_count": null,
   "metadata": {
    "colab": {
     "base_uri": "https://localhost:8080/"
    },
    "id": "ZlQRFkeNY7yv",
    "outputId": "71b8d4dd-7df0-4c92-9866-e729a731c573"
   },
   "outputs": [],
   "source": [
    "metros = float(input('Insira o valor em metros: '))\n",
    "print(f'O valor em centímetros é: {metros * 100}')"
   ]
  },
  {
   "cell_type": "markdown",
   "metadata": {
    "id": "9JOscHX_md0I"
   },
   "source": [
    "# Faça um Programa\n",
    "\n",
    "que peça o raio de um círculo, calcule e mostre sua área."
   ]
  },
  {
   "cell_type": "code",
   "execution_count": null,
   "metadata": {
    "colab": {
     "base_uri": "https://localhost:8080/"
    },
    "id": "S9cBO1rtePb7",
    "outputId": "bd95e9f8-38f5-4fbe-b592-303604e7cdf4"
   },
   "outputs": [],
   "source": [
    "raio = float(input('Insira o valor do raio do círculo: '))\n",
    "print(f'O valor da área é: {3.14159*(raio*raio)}')"
   ]
  },
  {
   "cell_type": "markdown",
   "metadata": {
    "id": "yfvjSp5CneAQ"
   },
   "source": [
    "# Faça um Programa\n",
    "\n",
    "que calcule a área de um quadrado, em seguida mostre o dobro desta área para o usuário.\n"
   ]
  },
  {
   "cell_type": "code",
   "execution_count": null,
   "metadata": {
    "colab": {
     "base_uri": "https://localhost:8080/"
    },
    "id": "alGT-yaVnN_R",
    "outputId": "a386460c-f212-475b-99ae-dff48cda5b9e"
   },
   "outputs": [],
   "source": [
    "area = float(input('Insira a área do quadrado: '))\n",
    "print(f'O valor do dobro da área é {area*area}')"
   ]
  },
  {
   "cell_type": "markdown",
   "metadata": {
    "id": "MIZGow-JoXTX"
   },
   "source": [
    "# Faça um Programa\n",
    "\n",
    "que pergunte quanto você ganha por hora e o número de horas trabalhadas no mês. Calcule e mostre o total do seu salário no referido mês."
   ]
  },
  {
   "cell_type": "code",
   "execution_count": null,
   "metadata": {
    "colab": {
     "base_uri": "https://localhost:8080/"
    },
    "id": "SWblAPfooZyn",
    "outputId": "28d295ed-e195-4588-ad80-cf39c911d3eb"
   },
   "outputs": [],
   "source": [
    "valor_hora = float(input('Insira o valor que você ganha por hora: '))\n",
    "hora_mes = float(input('Insira o número de horas trabalhadas no mês: '))\n",
    "print(f'Seu salário é: R$ {valor_hora * hora_mes}')"
   ]
  },
  {
   "cell_type": "markdown",
   "metadata": {
    "id": "jvhOZkcLpfyf"
   },
   "source": [
    "# Faça um Programa\n",
    "\n",
    "que peça a temperatura em graus Fahrenheit, transforme e mostre a temperatura em graus Celsius. C = 5 * ((F-32) / 9)."
   ]
  },
  {
   "cell_type": "code",
   "execution_count": null,
   "metadata": {
    "colab": {
     "base_uri": "https://localhost:8080/"
    },
    "id": "Q9NC180epLGg",
    "outputId": "598fe42e-6cf5-4d05-e364-820fe7d49858"
   },
   "outputs": [],
   "source": [
    "fahrenheit = float(input('Insira o valor da temperatura em ° Fahrenheit: '))\n",
    "print(f'O valor da temperatura em ° Celsius é: {5*((fahrenheit-32)/9)}')"
   ]
  },
  {
   "cell_type": "markdown",
   "metadata": {
    "id": "Tzl7EDTlpaaK"
   },
   "source": [
    "# Faça um Programa\n",
    "\n",
    "que peça a temperatura em graus Celsius, transforme e mostre em graus Fahrenheit.\n"
   ]
  },
  {
   "cell_type": "code",
   "execution_count": null,
   "metadata": {
    "colab": {
     "base_uri": "https://localhost:8080/"
    },
    "id": "toy6lIlnqYeh",
    "outputId": "c01aa71f-27f9-4fdf-d12f-c4ea4ade18fa"
   },
   "outputs": [],
   "source": [
    "celsius = float(input('Insira a temperatura em ° Celsius: '))\n",
    "print(f'A temperatura em ° Fahrenheit é: {((9*celsius)/5)+32}')"
   ]
  },
  {
   "cell_type": "markdown",
   "metadata": {
    "id": "zQNh0gRiryYu"
   },
   "source": [
    "# Faça um Programa\n",
    "\n",
    "que peça 2 números inteiros e um número real. Calcule e mostre:\n",
    "1) o produto do dobro do primeiro com metade do segundo .\n",
    "2) a soma do triplo do primeiro com o terceiro.\n",
    "3) o terceiro elevado ao cubo."
   ]
  },
  {
   "cell_type": "code",
   "execution_count": null,
   "metadata": {
    "colab": {
     "base_uri": "https://localhost:8080/"
    },
    "id": "nmV_RBJbrvz_",
    "outputId": "ef92b6ba-bf8a-4569-d46e-17d74683b66c"
   },
   "outputs": [],
   "source": [
    "numero_1 = int(input('Entre com o primeiro número: '))\n",
    "numero_2 = int(input('Entre com o segundo número: '))\n",
    "numero_3 = float(input('Entre com o terceiro número: '))\n",
    "print(f'O produto do dobro do primeiro com metade do segundo é: {numero_1*2*(1/2)*numero_2}')\n",
    "print(f'A soma do triplo do primeiro com o terceiro é : {3*numero_1+numero_3}')\n",
    "print(f'O terceiro elevado ao cubo é: {numero_3*numero_3*numero_3}')"
   ]
  },
  {
   "cell_type": "markdown",
   "metadata": {
    "id": "YzyHKQYUBGcL"
   },
   "source": [
    "# Tendo como dados de entrada a altura de uma pessoa\n",
    "\n",
    "construa um algoritmo que calcule seu peso ideal, usando a seguinte fórmula: (72.7*altura) - 58"
   ]
  },
  {
   "cell_type": "code",
   "execution_count": null,
   "metadata": {
    "colab": {
     "base_uri": "https://localhost:8080/"
    },
    "id": "3Y5NXTDfBJcd",
    "outputId": "f0c7c512-bac6-456b-c1a6-3fbb35ab080a"
   },
   "outputs": [],
   "source": [
    "altura = float(input('Insira a sua altura: '))\n",
    "print(f'Seu peso ideal é: {(72.7*altura)-58}')"
   ]
  },
  {
   "cell_type": "markdown",
   "metadata": {
    "id": "zWZF9LdUFQz6"
   },
   "source": [
    "# Tendo como dado de entrada a altura (h) de uma pessoa\n",
    "\n",
    "construa um algoritmo que calcule seu peso ideal, utilizando as seguintes fórmulas:\n",
    "Para homens: (72.7*h) - 58; \n",
    "Para mulheres: (62.1*h) - 44.7;\n"
   ]
  },
  {
   "cell_type": "code",
   "execution_count": null,
   "metadata": {
    "id": "AyIGYZA_BbA5"
   },
   "outputs": [],
   "source": [
    "while True:\n",
    "    sexo = input('Entre com o sexo (homem, mulher ou sair): ')\n",
    "    if(sexo == 'homem' or sexo == 'mulher'): altura = float(input('Entre com a altura: '))\n",
    "    if(sexo == 'homem'): print(f'Senhor, seu peso ideal é de: {(72.7*altura)-58}')\n",
    "    elif(sexo == 'mulher'): print(f'Senhora, seu peso ideal é de: {(62.1*altura)-44.7}')\n",
    "    elif(sexo == 'sair'): break\n",
    "    else: print(f'O item {sexo} não corresponde a uma entrada válida')\n",
    "print('Programa encerrado!')"
   ]
  },
  {
   "cell_type": "markdown",
   "metadata": {
    "id": "e1gh4rT4MUUi"
   },
   "source": [
    "# João Papo-de-Pescador, \n",
    "homem de bem, comprou um microcomputador para controlar o rendimento diário de seu trabalho. Toda vez que ele traz um peso de peixes maior que o estabelecido pelo regulamento de pesca do estado de São Paulo (50 quilos) deve pagar uma multa de R$ 4,00 por quilo excedente. João precisa que você faça um programa que leia a variável peso (peso de peixes) e calcule o excesso. Gravar na variável excesso a quantidade de quilos além do limite e na variável multa o valor da multa que João deverá pagar. Imprima os dados do programa com as mensagens adequadas."
   ]
  },
  {
   "cell_type": "code",
   "execution_count": null,
   "metadata": {
    "id": "12mRWTu6GU8Z"
   },
   "outputs": [],
   "source": [
    "clear_output,\n",
    "def limpar():\n",
    "    multa_total, excesso, multa_atual, peso_total = 0, 0, 0, 0;\n",
    "    print('\\nValores limpos')\n",
    "    print(f'')\n",
    "\n",
    "def teste_float_peso(peso):\n",
    "    try: \n",
    "        float(peso)\n",
    "        return True\n",
    "    except ValueError: return False\n",
    "\n",
    "multa_total, excesso, multa_atual, peso_total = 0, 0, 0, 0;\n",
    "\n",
    "limpar()\n",
    "\n",
    "while True:\n",
    "    peso = input('Entre com o peso total dos pescados: ')\n",
    "    if(peso == 'limpar'): limpar()\n",
    "    elif(peso == 'fim'): break\n",
    "    elif(teste_float_peso(peso) == True):\n",
    "        peso_float = float(peso)\n",
    "        if(peso_float > 50):\n",
    "            multa_atual = (peso_float - 50) * 4\n",
    "            excesso = peso_float - 50\n",
    "            multa_total += multa_atual\n",
    "            peso_total += peso_float\n",
    "            print(f'O peso de {peso_float} kg apresentou excesso de {format(excesso,\".2f\")} kg, gerando multa de R$ {format(multa_atual,\".2f\")}, total das multas é de R$ {format(multa_total,\".2f\")}')\n",
    "        else: \n",
    "            peso_total += peso_float\n",
    "            print(f'O peso de {peso_float} kg não apresentou excesso, peso total: {peso_total}, total das multas é de R$ {format(multa_total,\".2f\")}')\n",
    "    else: print('Confira o campo preenchido, valor não esperado.')"
   ]
  },
  {
   "cell_type": "markdown",
   "metadata": {
    "id": "aUjaRtGhz3Ja"
   },
   "source": [
    "# Faça um programa\n",
    "\n",
    " que pergunte quanto você ganha por hora e o número de horas trabalhadas no mês. Calcule e mostre o total do seu salário no referido mês, sabendo-se que são descontados 11% para o Imposto de Renda, 8% para o INSS e 5% para o sindicato, faça um programa que nos dê:\n",
    "\n",
    "I) salário bruto;\n",
    "II) quanto pagou ao INSS;\n",
    "III) quanto pagou ao sindicato;\n",
    "IV) o salário líquido;\n",
    "V) calcule os descontos e o salário líquido"
   ]
  },
  {
   "cell_type": "code",
   "execution_count": null,
   "metadata": {
    "id": "hsg1das4NN6c"
   },
   "outputs": [],
   "source": [
    "valor_hora = float(input('Quanto você ganha por hora? '))\n",
    "horas_mes = float(input('Quantas horas você trabalha em um mês? '))\n",
    "salario_integral = valor_hora*horas_mes\n",
    "salario_descontado = (1-0.11-0.08-0.05)*salario_integral \n",
    "print(f'+ Salário Bruto: R$ {salario_integral}')\n",
    "print(f'- IR R$ {0.11*salario_integral}')\n",
    "print(f'- INSS R$ {0.08*salario_integral}') \n",
    "print(f'- Sindicato R$ {0.05*salario_integral}')\n",
    "print(f'= Salário Líquido: R$ {salario_descontado}')\n"
   ]
  },
  {
   "cell_type": "markdown",
   "metadata": {},
   "source": [
    "# Faça um programa \n",
    "\n",
    "para uma loja de tintas. O programa deverá pedir o tamanho em metros quadrados da área a ser pintada. Considere que a cobertura da tinta é de 1 litro para cada 3 metros quadrados e que a tinta é vendida em latas de 18 litros, que custam R$ 80,00. Informe ao usuário a quantidades de latas de tinta a serem compradas e o preço total. "
   ]
  },
  {
   "cell_type": "code",
   "execution_count": null,
   "metadata": {},
   "outputs": [],
   "source": [
    "area_pintada = float(input('Qual o tamanho em metros quadrados da área a ser pintada? '))\n",
    "cobertura_tinta = area_pintada*(1/3)\n",
    "latas_tinta = cobertura_tinta // 18\n",
    "if(area_pintada <= 0): print(f'Para calcular o número de latas favor inserir um valor maior que zero.')\n",
    "else: print(f'Área pintada: {area_pintada} m², latas de tinta necessárias: {latas_tinta+1} latas')"
   ]
  },
  {
   "cell_type": "markdown",
   "metadata": {},
   "source": [
    "# Faça um Programa \n",
    "\n",
    "para uma loja de tintas. O programa deverá pedir o tamanho em metros quadrados da área a ser pintada. Considere que a cobertura da tinta é de 1 litro para cada 6 metros quadrados e que a tinta é vendida em latas de 18 litros, que custam 80 reais ou em galões de 3,6 litros, que custam 25 reais. Informe ao usuário as quantidades de tinta a serem compradas e os respectivos preços em 3 situações:\n",
    "\n",
    "I) comprar apenas latas de 18 litros; II) comprar apenas galões de 3,6 litros; III) Misturar latas e galões, de forma que o desperdício de tinta seja menor. Acrescente 10% de folga e sempre arredonde os valores para cima, isto é, considere latas cheias. "
   ]
  },
  {
   "cell_type": "markdown",
   "metadata": {},
   "source": [
    "# Faça um programa \n",
    "\n",
    "que peça o tamanho de um arquivo para download (em MB) e a velocidade de um link de Internet (em Mbps), calcule e informe o tempo aproximado de download do arquivo usando este link (em minutos). "
   ]
  },
  {
   "cell_type": "code",
   "execution_count": null,
   "metadata": {},
   "outputs": [],
   "source": [
    "mB = int(input('Qual o tamanho do arquivo em MB? R: '))\n",
    "mbps = int(input('Qual a velocidade do link em Mbps? R: '))\n",
    "mb = mB * 8\n",
    "\n",
    "tempo_do_download = mb/mbps\n",
    "fracao_em_minutos = tempo_do_download//60\n",
    "fracao_em_segundos = int(tempo_do_download%60)+1\n",
    "\n",
    "print(f'O tempo de download é de {fracao_em_minutos} minutos e {fracao_em_segundos} segundos')"
   ]
  }
 ],
 "metadata": {
  "colab": {
   "collapsed_sections": [
    "UcCF6p75NnhH",
    "ZSUNUmnCN1eX",
    "hUWhM6oXOKr6",
    "2xSq-tLJPf50",
    "OTbe8qoUlZA5",
    "9JOscHX_md0I",
    "yfvjSp5CneAQ",
    "MIZGow-JoXTX",
    "jvhOZkcLpfyf",
    "Tzl7EDTlpaaK",
    "zQNh0gRiryYu",
    "YzyHKQYUBGcL",
    "zWZF9LdUFQz6",
    "e1gh4rT4MUUi"
   ],
   "provenance": []
  },
  "kernelspec": {
   "display_name": "Python 3 (ipykernel)",
   "language": "python",
   "name": "python3"
  },
  "language_info": {
   "codemirror_mode": {
    "name": "ipython",
    "version": 3
   },
   "file_extension": ".py",
   "mimetype": "text/x-python",
   "name": "python",
   "nbconvert_exporter": "python",
   "pygments_lexer": "ipython3",
   "version": "3.9.15"
  }
 },
 "nbformat": 4,
 "nbformat_minor": 1
}
